{
  "nbformat": 4,
  "nbformat_minor": 0,
  "metadata": {
    "colab": {
      "provenance": []
    },
    "kernelspec": {
      "name": "python3",
      "display_name": "Python 3"
    },
    "language_info": {
      "name": "python"
    }
  },
  "cells": [
    {
      "cell_type": "markdown",
      "source": [
        "1. What is the difference between a function and a method in Python? ==> functions not associated with any objecte or class but methods are function in python associated with class or objecte defined inside function ."
      ],
      "metadata": {
        "id": "cfJLOjUc6Ig8"
      }
    },
    {
      "cell_type": "markdown",
      "source": [
        "2. Explain the concept of function arguments and parameters in Python.? ==> parameters is varible defined inside of the parathsis, however arguments when we assigne value to called function  "
      ],
      "metadata": {
        "id": "rjWscSh0bygG"
      }
    },
    {
      "cell_type": "code",
      "source": [
        "def hari(name): # parameter\n",
        "   return name\n",
        "hari(\"om\")        # argument\n"
      ],
      "metadata": {
        "colab": {
          "base_uri": "https://localhost:8080/",
          "height": 35
        },
        "id": "3cCmbrBOcYRM",
        "outputId": "bc111b3d-6941-4179-993c-4b3b08e8bdc5"
      },
      "execution_count": null,
      "outputs": [
        {
          "output_type": "execute_result",
          "data": {
            "text/plain": [
              "'om'"
            ],
            "application/vnd.google.colaboratory.intrinsic+json": {
              "type": "string"
            }
          },
          "metadata": {},
          "execution_count": 29
        }
      ]
    },
    {
      "cell_type": "markdown",
      "source": [
        "3. What are the different ways to define and call a function in Python? == > using def to define parameter(arguments) this the way to define function"
      ],
      "metadata": {
        "id": "KBbSX8jf6m2m"
      }
    },
    {
      "cell_type": "code",
      "source": [
        "def hari():\n",
        "  return \"hi chatgpt\" # This is the way of defining a function\n",
        "hari()"
      ],
      "metadata": {
        "colab": {
          "base_uri": "https://localhost:8080/",
          "height": 35
        },
        "id": "cxm4xERbSN7G",
        "outputId": "1d28b07c-eb26-47db-fb5d-d07383a22d43"
      },
      "execution_count": null,
      "outputs": [
        {
          "output_type": "execute_result",
          "data": {
            "text/plain": [
              "'hi chatgpt'"
            ],
            "application/vnd.google.colaboratory.intrinsic+json": {
              "type": "string"
            }
          },
          "metadata": {},
          "execution_count": 6
        }
      ]
    },
    {
      "cell_type": "markdown",
      "source": [
        "4. What is the purpose of the `return` statement in a Python function? ==> return statment returns output exactly as it get from performing task ."
      ],
      "metadata": {
        "id": "DV1f2Mna8CZL"
      }
    },
    {
      "cell_type": "code",
      "source": [
        "                                            # outputs are varied #\n",
        "def hari():\n",
        "   print(\"hi chatgpt\") # returns  statement\n",
        "hari()"
      ],
      "metadata": {
        "colab": {
          "base_uri": "https://localhost:8080/"
        },
        "id": "fCEZJv4vSxSE",
        "outputId": "02b3d9dd-df32-472b-92e2-550f59afc16d"
      },
      "execution_count": null,
      "outputs": [
        {
          "output_type": "stream",
          "name": "stdout",
          "text": [
            "hi chatgpt\n"
          ]
        }
      ]
    },
    {
      "cell_type": "code",
      "source": [
        "def hari():\n",
        "  return \"hi chatgpt\" # returns  statement\n",
        "hari()"
      ],
      "metadata": {
        "colab": {
          "base_uri": "https://localhost:8080/",
          "height": 35
        },
        "id": "ijYQed21TQ88",
        "outputId": "40bb673e-8925-46a9-c07b-dd24c1940e83"
      },
      "execution_count": null,
      "outputs": [
        {
          "output_type": "execute_result",
          "data": {
            "text/plain": [
              "'hi chatgpt'"
            ],
            "application/vnd.google.colaboratory.intrinsic+json": {
              "type": "string"
            }
          },
          "metadata": {},
          "execution_count": 12
        }
      ]
    },
    {
      "cell_type": "markdown",
      "source": [
        "5. What are iterators in Python and how do they differ from iterables? ==> iterator is objecte actually performs iteration whereas iterables are objecte return values one at a time"
      ],
      "metadata": {
        "id": "uVzSww5tq_lv"
      }
    },
    {
      "cell_type": "code",
      "source": [
        "s = [1,2,3,4,5] # iterable\n",
        "for i in s :    # list,tuples are iterables print values subsequently without often calling\n",
        "  print(i)\n",
        "\n",
        "print(\"=\"*150)\n",
        "\n",
        "# iteration\n",
        "a = iter(s)  # whereas iterations unlike\n",
        "a\n",
        "print(next(a))"
      ],
      "metadata": {
        "colab": {
          "base_uri": "https://localhost:8080/"
        },
        "id": "TS52lhOhO-Ww",
        "outputId": "36329c1c-67a9-410a-fa27-429f84e795f6"
      },
      "execution_count": null,
      "outputs": [
        {
          "output_type": "stream",
          "name": "stdout",
          "text": [
            "1\n",
            "2\n",
            "3\n",
            "4\n",
            "5\n",
            "======================================================================================================================================================\n",
            "1\n"
          ]
        }
      ]
    },
    {
      "cell_type": "markdown",
      "source": [
        "7.What are the advantages of using generators over regular functions? ==> generators usally use when large program processing due large script takes time to for processing but whenever working with small level programming script regular function is best it provide output within fraction of seconds."
      ],
      "metadata": {
        "id": "V25Vo-tCWRvq"
      }
    },
    {
      "cell_type": "code",
      "source": [
        "def harish(n):  # regular function\n",
        "      z = []\n",
        "      for i in n:\n",
        "        if i % 2 == 0:\n",
        "          z.append(i)\n",
        "      return z\n",
        "harish([i for i in range(10)])"
      ],
      "metadata": {
        "colab": {
          "base_uri": "https://localhost:8080/"
        },
        "id": "ylR5qZQrXk8H",
        "outputId": "6c4cecff-2b29-475f-973b-de12198a8eb9"
      },
      "execution_count": null,
      "outputs": [
        {
          "output_type": "execute_result",
          "data": {
            "text/plain": [
              "[0, 2, 4, 6, 8]"
            ]
          },
          "metadata": {},
          "execution_count": 2
        }
      ]
    },
    {
      "cell_type": "code",
      "source": [
        "def harish(n):  # genarator\n",
        "      for i in n:\n",
        "        if i % 2 == 0:\n",
        "         yield i\n",
        "gen = harish([1,2,3,5.5,6.8,4,5,6,8.9,5.6,7,8,9])\n",
        "gen\n",
        "print(next(gen))\n",
        "print(next(gen))"
      ],
      "metadata": {
        "colab": {
          "base_uri": "https://localhost:8080/"
        },
        "id": "fb-UpO2RX1Lv",
        "outputId": "5fb31c74-1b13-4383-831c-34773e7b148e"
      },
      "execution_count": null,
      "outputs": [
        {
          "output_type": "stream",
          "name": "stdout",
          "text": [
            "2\n",
            "4\n"
          ]
        }
      ]
    },
    {
      "cell_type": "markdown",
      "source": [
        "6. Explain the concept of generators in Python and how they are defined.? ==> generators are defined as yiled,and use to return values one by one or user command based insted of returnig as loop."
      ],
      "metadata": {
        "id": "lMTCD1Gtrnjh"
      }
    },
    {
      "cell_type": "code",
      "source": [
        "def harish(n):  # genarator\n",
        "      for i in n:\n",
        "        if i % 2 == 0:\n",
        "         yield i       # defining generator\n",
        "gen = harish([1,2,3,5.5,6.8,4,5,6,8.9,5.6,7,8,9])\n",
        "gen\n",
        "print(next(gen))\n",
        "print(next(gen))       # call command of the generator"
      ],
      "metadata": {
        "id": "pv3myrADaebP"
      },
      "execution_count": null,
      "outputs": []
    },
    {
      "cell_type": "markdown",
      "source": [
        "8. What is a lambda function in Python and when is it typically used? == >> lambda is a built-in anonymous function in Python creates to use often to perform specific task ."
      ],
      "metadata": {
        "id": "RyBrlIVAjwSo"
      }
    },
    {
      "cell_type": "code",
      "source": [
        "num = lambda n: [n + n]\n",
        "num(5)"
      ],
      "metadata": {
        "colab": {
          "base_uri": "https://localhost:8080/"
        },
        "id": "U0mi90mhl0Ct",
        "outputId": "d4b1b9d3-8de1-465a-861b-bf1499191e86"
      },
      "execution_count": null,
      "outputs": [
        {
          "output_type": "execute_result",
          "data": {
            "text/plain": [
              "[10]"
            ]
          },
          "metadata": {},
          "execution_count": 2
        }
      ]
    },
    {
      "cell_type": "markdown",
      "source": [
        "9. Explain the purpose and usage of the `map()` function in Python.? ==> map orginize function and iterable,it excute each value from iterable and transfers to function for performing specific task   "
      ],
      "metadata": {
        "id": "ikx8sSyfulLR"
      }
    },
    {
      "cell_type": "code",
      "source": [
        "a = [\"tok_no1\",\"tok_no2\"]\n",
        "list(map(lambda x: 2000 if x in [\"tok_no1\"] else 3000,a))"
      ],
      "metadata": {
        "colab": {
          "base_uri": "https://localhost:8080/"
        },
        "id": "l6GfsNPszFhb",
        "outputId": "2ca32485-d506-487c-ade5-1df005a3ca44"
      },
      "execution_count": null,
      "outputs": [
        {
          "output_type": "execute_result",
          "data": {
            "text/plain": [
              "[2000, 3000]"
            ]
          },
          "metadata": {},
          "execution_count": 5
        }
      ]
    },
    {
      "cell_type": "markdown",
      "source": [
        "10. What is the difference between `map()`, `reduce()`, and `filter()` functions in Python? == > map helps to orginize function and iterable to perform specific task simultaneously but reduces the performance of the function and shuffles the value to 1st varible whereas filter return only TRUE value inside of function"
      ],
      "metadata": {
        "id": "xQxZYpZ43mCl"
      }
    },
    {
      "cell_type": "markdown",
      "source": [
        "11. Using pen & Paper write the internal mechanism for sum operation using  reduce function on this given\n",
        "list:[47,11,42,13];"
      ],
      "metadata": {
        "id": "YJL-3c1jt2Hr"
      }
    },
    {
      "cell_type": "markdown",
      "source": [
        "![reduce.jpg](data:image/jpeg;base64,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)"
      ],
      "metadata": {
        "id": "RKiSVnaf3Scw"
      }
    },
    {
      "cell_type": "markdown",
      "source": [
        "# practical problems"
      ],
      "metadata": {
        "id": "yO7gp3X38X_a"
      }
    },
    {
      "cell_type": "markdown",
      "source": [
        "1. Write a Python function that takes a list of numbers as input and returns the sum of all even numbers in the list ?"
      ],
      "metadata": {
        "id": "V83c1mWV9gLe"
      }
    },
    {
      "cell_type": "code",
      "source": [
        "def task(receiver):\n",
        "  s = []\n",
        "  for i in receiver:\n",
        "    if i % 2 == 0:\n",
        "      s.append(i)\n",
        "  return sum(s)\n",
        "task([1,2,3,5.5,6.8,4,5,6,8.9,5.6,7,8,9])\n"
      ],
      "metadata": {
        "colab": {
          "base_uri": "https://localhost:8080/"
        },
        "id": "8X0i1VOk9kiI",
        "outputId": "c92d7312-6a3b-46fe-9b4b-6bb0adf5cfdc"
      },
      "execution_count": null,
      "outputs": [
        {
          "output_type": "execute_result",
          "data": {
            "text/plain": [
              "20"
            ]
          },
          "metadata": {},
          "execution_count": 63
        }
      ]
    },
    {
      "cell_type": "markdown",
      "source": [
        "2. Create a Python function that accepts a string and returns the reverse of that string."
      ],
      "metadata": {
        "id": "ryLYN6beKdQq"
      }
    },
    {
      "cell_type": "code",
      "source": [
        "def name(a):\n",
        "  z = \" \"\n",
        "  i = len(a) -1\n",
        "  while i >= 0:\n",
        "    z += a[i]\n",
        "    i -= 1\n",
        "  return z\n",
        "print(name(\"harish\"))"
      ],
      "metadata": {
        "colab": {
          "base_uri": "https://localhost:8080/"
        },
        "id": "ed-21eKbKfnP",
        "outputId": "7848e819-680f-49b9-dc50-c5fde380b80a"
      },
      "execution_count": null,
      "outputs": [
        {
          "output_type": "stream",
          "name": "stdout",
          "text": [
            " hsirah\n"
          ]
        }
      ]
    },
    {
      "cell_type": "markdown",
      "source": [
        "3. Implement a Python function that takes a list of integers and returns a new list containing the squares of\n",
        "each number."
      ],
      "metadata": {
        "id": "D9NZsWRnM7Ds"
      }
    },
    {
      "cell_type": "code",
      "source": [
        "def task3(s):\n",
        "  x = []\n",
        "  for i in s:\n",
        "    x.append(i*i)\n",
        "  return x\n",
        "task3([1,2,3,4,5])"
      ],
      "metadata": {
        "colab": {
          "base_uri": "https://localhost:8080/"
        },
        "id": "Xn4c32iWNA6X",
        "outputId": "36acb41c-3364-404f-8235-76a560082a64"
      },
      "execution_count": null,
      "outputs": [
        {
          "output_type": "execute_result",
          "data": {
            "text/plain": [
              "[1, 4, 9, 16, 25]"
            ]
          },
          "metadata": {},
          "execution_count": 23
        }
      ]
    },
    {
      "cell_type": "markdown",
      "source": [
        "4. Write a Python function that checks if a given number is prime or not from 1 to 200"
      ],
      "metadata": {
        "id": "sSL_OigGOmUt"
      }
    },
    {
      "cell_type": "code",
      "source": [
        "def task4(p):\n",
        "  if p % 2 != 0 and p % 3 != 0:\n",
        "    return \"yes,prime\",p\n",
        "task4(61)"
      ],
      "metadata": {
        "colab": {
          "base_uri": "https://localhost:8080/"
        },
        "id": "0Mm4szkQO02m",
        "outputId": "df4d5d45-b814-4d09-dc3d-2e7cb5a34bef"
      },
      "execution_count": null,
      "outputs": [
        {
          "output_type": "execute_result",
          "data": {
            "text/plain": [
              "('yes,prime', 61)"
            ]
          },
          "metadata": {},
          "execution_count": 60
        }
      ]
    },
    {
      "cell_type": "markdown",
      "source": [
        "5. Create an iterator class in Python that generates the Fibonacci sequence up to a specified number of\n",
        "terms."
      ],
      "metadata": {
        "id": "6-2Nn9291CA7"
      }
    },
    {
      "cell_type": "code",
      "source": [
        "def fib(n):\n",
        "  a = 0\n",
        "  b = 1\n",
        "  for i in range(n):\n",
        "    yield a\n",
        "    a,b = b , a+b\n",
        "\n",
        "a = fib(10)\n",
        "a\n",
        "print(next(a))\n",
        "print(next(a))\n",
        "print(next(a))\n",
        "print(next(a))\n",
        "print(next(a))\n",
        "print(next(a))\n",
        "print(next(a))\n",
        "print(next(a))\n"
      ],
      "metadata": {
        "colab": {
          "base_uri": "https://localhost:8080/"
        },
        "id": "hMvEwckR1G59",
        "outputId": "12b4c075-98d9-4cf1-e435-a583530d45e1"
      },
      "execution_count": null,
      "outputs": [
        {
          "output_type": "stream",
          "name": "stdout",
          "text": [
            "0\n",
            "1\n",
            "1\n",
            "2\n",
            "3\n",
            "5\n",
            "8\n",
            "13\n"
          ]
        }
      ]
    },
    {
      "cell_type": "markdown",
      "source": [
        "6. Write a generator function in Python that yields the powers of 2 up to a given exponent."
      ],
      "metadata": {
        "id": "oiUwVlrX2MYL"
      }
    },
    {
      "cell_type": "code",
      "source": [
        "def power(n):\n",
        "  for i in n:\n",
        "    yield i**i\n",
        "\n",
        "gen = power([i for i in range(10)])\n",
        "gen\n",
        "print(next(gen))\n",
        "print(next(gen))\n",
        "print(next(gen))\n",
        "print(next(gen))\n",
        "print(next(gen))\n",
        "print(next(gen))\n",
        "print(next(gen))\n",
        "print(next(gen))\n",
        "\n",
        "\n"
      ],
      "metadata": {
        "colab": {
          "base_uri": "https://localhost:8080/"
        },
        "id": "nMpfDHdr2QFk",
        "outputId": "a14d3b90-f854-40bc-d2e1-e4565b4f5d74"
      },
      "execution_count": null,
      "outputs": [
        {
          "output_type": "stream",
          "name": "stdout",
          "text": [
            "1\n",
            "1\n",
            "4\n",
            "27\n",
            "256\n",
            "3125\n",
            "46656\n",
            "823543\n"
          ]
        }
      ]
    },
    {
      "cell_type": "markdown",
      "source": [
        "7. Implement a generator function that reads a file line by line and yields each line as a string."
      ],
      "metadata": {
        "id": "ASFW6kCcPfc6"
      }
    },
    {
      "cell_type": "code",
      "source": [
        "def gen(*a):\n",
        "    for i in a:\n",
        "        yield str(i)\n",
        "a = gen(\"file\") # we need to upload files\n",
        "print(next(a))"
      ],
      "metadata": {
        "id": "0o-urIxfPkH-",
        "colab": {
          "base_uri": "https://localhost:8080/"
        },
        "outputId": "061abd24-cc3d-4d38-f4ca-85fabc90efd1"
      },
      "execution_count": null,
      "outputs": [
        {
          "output_type": "stream",
          "name": "stdout",
          "text": [
            "file\n"
          ]
        }
      ]
    },
    {
      "cell_type": "markdown",
      "source": [
        "8. Use a lambda function in Python to sort a list of tuples based on the second element of each tuple.\n",
        "\n"
      ],
      "metadata": {
        "id": "pOccWlS_zlxz"
      }
    },
    {
      "cell_type": "code",
      "source": [
        "lt = [(6,5),(4,3),(2,1)]\n",
        "sorted(lt, key = lambda x : x[1])"
      ],
      "metadata": {
        "colab": {
          "base_uri": "https://localhost:8080/"
        },
        "id": "Uh1GUfjbznG0",
        "outputId": "d2c1305f-7675-41e2-b68c-b1869c454bfa"
      },
      "execution_count": null,
      "outputs": [
        {
          "output_type": "execute_result",
          "data": {
            "text/plain": [
              "[(2, 1), (4, 3), (6, 5)]"
            ]
          },
          "metadata": {},
          "execution_count": 1
        }
      ]
    },
    {
      "cell_type": "markdown",
      "source": [
        "9. Write a Python program that uses `map()` to convert a list of temperatures from Celsius to Fahrenheit."
      ],
      "metadata": {
        "id": "72bgsQUsyy8e"
      }
    },
    {
      "cell_type": "code",
      "source": [
        "b = [32, 100, 0, -40, 37]\n",
        "list(map(lambda x : x*9/5 + 32, b))"
      ],
      "metadata": {
        "id": "wGmHXLS4CSFn",
        "colab": {
          "base_uri": "https://localhost:8080/"
        },
        "outputId": "621f81c7-cff7-4099-a005-9f6ba82e6d12"
      },
      "execution_count": null,
      "outputs": [
        {
          "output_type": "execute_result",
          "data": {
            "text/plain": [
              "[89.6, 212.0, 32.0, -40.0, 98.6]"
            ]
          },
          "metadata": {},
          "execution_count": 1
        }
      ]
    },
    {
      "cell_type": "markdown",
      "source": [
        "10. Create a Python program that uses `filter()` to remove all the vowels from a given string."
      ],
      "metadata": {
        "id": "HW3MaW-WzT9o"
      }
    },
    {
      "cell_type": "code",
      "source": [
        "a  = \"harish halyal aeiou AEIOU\"\n",
        "z = []\n",
        "list(filter(lambda x:z.append(x) if x.upper() not in [\"A\",\"E\",\"I\",\"O\",\"U\"]else None,a))\n",
        "for i in z:\n",
        "    print(i,end=\"\")"
      ],
      "metadata": {
        "id": "Tr3VDedazVC5",
        "colab": {
          "base_uri": "https://localhost:8080/"
        },
        "outputId": "68322741-8d08-4bfe-8397-89b3a4b92ae2"
      },
      "execution_count": null,
      "outputs": [
        {
          "output_type": "stream",
          "name": "stdout",
          "text": [
            "hrsh hlyl  "
          ]
        }
      ]
    },
    {
      "cell_type": "markdown",
      "source": [
        "11) Imagine an accounting routine used in a book shop. It works on a list with sublists, which look like this:\n",
        "\n",
        "\n",
        "\n",
        "\n",
        "\n",
        "\n",
        "\n",
        "Write a Python program, which returns a list with 2-tuples. Each tuple consists of the order number and the\n",
        "product of the price per item and the quantity. The product should be increased by 10,- € if the value of the\n",
        "order is smaller than 100,00 €.\n",
        "\n",
        "Write a Python program using lambda and map."
      ],
      "metadata": {
        "id": "oP7hrE6Q71wq"
      }
    },
    {
      "cell_type": "code",
      "source": [
        "input = [[34587,98762,77226,88112],[40.95,56.80,32.95,24.99],[4,5,3,3]]\n",
        "for i in range(4):\n",
        "         z = list(map(lambda x:(x[i]+10 if type(x[i]) ==float else x[i] if x[0] <= 100000 else x[i]),input))\n",
        "         d = list(map(lambda y:(y[i]+10 if type(y[i]) ==float else y[i] if y[0] <= 100000 else y[i]),input))\n",
        "         print([tuple(z)],[tuple(d)])"
      ],
      "metadata": {
        "id": "KmuyoZSk766-",
        "colab": {
          "base_uri": "https://localhost:8080/"
        },
        "outputId": "e1162b32-7e97-4bd5-fb59-a0b3d5e06c39"
      },
      "execution_count": 1,
      "outputs": [
        {
          "output_type": "stream",
          "name": "stdout",
          "text": [
            "[(34587, 50.95, 4)] [(34587, 50.95, 4)]\n",
            "[(98762, 66.8, 5)] [(98762, 66.8, 5)]\n",
            "[(77226, 42.95, 3)] [(77226, 42.95, 3)]\n",
            "[(88112, 34.989999999999995, 3)] [(88112, 34.989999999999995, 3)]\n"
          ]
        }
      ]
    }
  ]
}